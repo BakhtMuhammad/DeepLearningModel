{
  "nbformat": 4,
  "nbformat_minor": 0,
  "metadata": {
    "colab": {
      "provenance": []
    },
    "kernelspec": {
      "name": "python3",
      "display_name": "Python 3"
    },
    "language_info": {
      "name": "python"
    }
  },
  "cells": [
    {
      "cell_type": "markdown",
      "source": [
        "#Image Classification on Fashion MNIST Dataset using Feedforward Neural Network"
      ],
      "metadata": {
        "id": "m_ZlCiTH5TLN"
      }
    },
    {
      "cell_type": "code",
      "execution_count": 3,
      "metadata": {
        "id": "9d_VuqEQeZO2"
      },
      "outputs": [],
      "source": [
        "\n",
        "import tensorflow as tf\n",
        "from tensorflow.keras import layers, models\n",
        "from tensorflow.keras.datasets import fashion_mnist\n",
        "from sklearn.metrics import accuracy_score, classification_report"
      ]
    },
    {
      "cell_type": "code",
      "source": [
        "#Loading and preprocessing the dataset\n",
        "(X_train, y_train), (X_test, y_test) = fashion_mnist.load_data()\n",
        "#Pixel values normalization, 0 to 255\n",
        "X_train, X_test = X_train/255.0, X_test/255.0"
      ],
      "metadata": {
        "colab": {
          "base_uri": "https://localhost:8080/"
        },
        "id": "VaPF3BjMmCPo",
        "outputId": "65852329-8de0-4cd6-9599-450dfac2ca43"
      },
      "execution_count": 4,
      "outputs": [
        {
          "output_type": "stream",
          "name": "stdout",
          "text": [
            "Downloading data from https://storage.googleapis.com/tensorflow/tf-keras-datasets/train-labels-idx1-ubyte.gz\n",
            "29515/29515 [==============================] - 0s 0us/step\n",
            "Downloading data from https://storage.googleapis.com/tensorflow/tf-keras-datasets/train-images-idx3-ubyte.gz\n",
            "26421880/26421880 [==============================] - 0s 0us/step\n",
            "Downloading data from https://storage.googleapis.com/tensorflow/tf-keras-datasets/t10k-labels-idx1-ubyte.gz\n",
            "5148/5148 [==============================] - 0s 0us/step\n",
            "Downloading data from https://storage.googleapis.com/tensorflow/tf-keras-datasets/t10k-images-idx3-ubyte.gz\n",
            "4422102/4422102 [==============================] - 0s 0us/step\n"
          ]
        }
      ]
    },
    {
      "cell_type": "code",
      "source": [
        "#Model Definition\n",
        "model = models.Sequential([\n",
        "    layers.Flatten(input_shape= (28,28)),\n",
        "    #input layer definition\n",
        "    layers.Dense(128, activation = 'relu'),\n",
        "    layers.Dense(10, activation ='softmax')\n",
        "])"
      ],
      "metadata": {
        "id": "sTxbauEgnpWD"
      },
      "execution_count": 7,
      "outputs": []
    },
    {
      "cell_type": "code",
      "source": [
        "#Model Compilation\n",
        "model.compile(\n",
        "    optimizer = 'adam',\n",
        "    loss = 'sparse_categorical_crossentropy',\n",
        "    metrics = ['accuracy']\n",
        ")"
      ],
      "metadata": {
        "id": "XjX064QGrL8D"
      },
      "execution_count": 8,
      "outputs": []
    },
    {
      "cell_type": "code",
      "source": [
        "#Model Training\n",
        "model.fit(X_train, y_train, epochs = 15, validation_data = (X_test, y_test))"
      ],
      "metadata": {
        "colab": {
          "base_uri": "https://localhost:8080/"
        },
        "id": "sIdJHr-2tnTg",
        "outputId": "0d3ea988-8c6d-40fb-953f-7e556aa83979"
      },
      "execution_count": 11,
      "outputs": [
        {
          "output_type": "stream",
          "name": "stdout",
          "text": [
            "Epoch 1/15\n",
            "1875/1875 [==============================] - 6s 3ms/step - loss: 0.2016 - accuracy: 0.9237 - val_loss: 0.3632 - val_accuracy: 0.8874\n",
            "Epoch 2/15\n",
            "1875/1875 [==============================] - 7s 4ms/step - loss: 0.1961 - accuracy: 0.9256 - val_loss: 0.3526 - val_accuracy: 0.8886\n",
            "Epoch 3/15\n",
            "1875/1875 [==============================] - 6s 3ms/step - loss: 0.1924 - accuracy: 0.9276 - val_loss: 0.3659 - val_accuracy: 0.8803\n",
            "Epoch 4/15\n",
            "1875/1875 [==============================] - 7s 4ms/step - loss: 0.1861 - accuracy: 0.9304 - val_loss: 0.3466 - val_accuracy: 0.8893\n",
            "Epoch 5/15\n",
            "1875/1875 [==============================] - 6s 3ms/step - loss: 0.1821 - accuracy: 0.9315 - val_loss: 0.3471 - val_accuracy: 0.8868\n",
            "Epoch 6/15\n",
            "1875/1875 [==============================] - 7s 4ms/step - loss: 0.1775 - accuracy: 0.9333 - val_loss: 0.3511 - val_accuracy: 0.8889\n",
            "Epoch 7/15\n",
            "1875/1875 [==============================] - 6s 3ms/step - loss: 0.1735 - accuracy: 0.9349 - val_loss: 0.3656 - val_accuracy: 0.8858\n",
            "Epoch 8/15\n",
            "1875/1875 [==============================] - 7s 4ms/step - loss: 0.1714 - accuracy: 0.9342 - val_loss: 0.3879 - val_accuracy: 0.8836\n",
            "Epoch 9/15\n",
            "1875/1875 [==============================] - 6s 3ms/step - loss: 0.1669 - accuracy: 0.9374 - val_loss: 0.3754 - val_accuracy: 0.8888\n",
            "Epoch 10/15\n",
            "1875/1875 [==============================] - 8s 4ms/step - loss: 0.1617 - accuracy: 0.9398 - val_loss: 0.3917 - val_accuracy: 0.8854\n",
            "Epoch 11/15\n",
            "1875/1875 [==============================] - 7s 4ms/step - loss: 0.1589 - accuracy: 0.9405 - val_loss: 0.3618 - val_accuracy: 0.8894\n",
            "Epoch 12/15\n",
            "1875/1875 [==============================] - 6s 3ms/step - loss: 0.1541 - accuracy: 0.9415 - val_loss: 0.3907 - val_accuracy: 0.8888\n",
            "Epoch 13/15\n",
            "1875/1875 [==============================] - 7s 4ms/step - loss: 0.1514 - accuracy: 0.9421 - val_loss: 0.3824 - val_accuracy: 0.8855\n",
            "Epoch 14/15\n",
            "1875/1875 [==============================] - 6s 3ms/step - loss: 0.1479 - accuracy: 0.9448 - val_loss: 0.3981 - val_accuracy: 0.8883\n",
            "Epoch 15/15\n",
            "1875/1875 [==============================] - 7s 4ms/step - loss: 0.1464 - accuracy: 0.9455 - val_loss: 0.4020 - val_accuracy: 0.8836\n"
          ]
        },
        {
          "output_type": "execute_result",
          "data": {
            "text/plain": [
              "<keras.src.callbacks.History at 0x799b1a712470>"
            ]
          },
          "metadata": {},
          "execution_count": 11
        }
      ]
    },
    {
      "cell_type": "code",
      "source": [
        "#Model Evaluation\n",
        "#y_pred = model.predict_classes(X_test)\n",
        "y_pred_probs = model.predict(X_test)\n",
        "y_pred = tf.argmax(y_pred_probs, axis = 1).numpy()\n",
        "accuracy =  accuracy_score(y_test, y_pred)\n",
        "print(f\"Test Accuracy: {accuracy: .4f}\")"
      ],
      "metadata": {
        "colab": {
          "base_uri": "https://localhost:8080/"
        },
        "id": "h3wAIfL_xRnP",
        "outputId": "ce234cc7-7e47-463a-bcba-ee7a11a9734b"
      },
      "execution_count": 15,
      "outputs": [
        {
          "output_type": "stream",
          "name": "stdout",
          "text": [
            "313/313 [==============================] - 1s 2ms/step\n",
            "Test Accuracy:  0.8836\n"
          ]
        }
      ]
    },
    {
      "cell_type": "code",
      "source": [
        "#Classification Report Generation\n",
        "class_names = [\"T-shirt/top\", \"Trouser\", \"Pullover\", \"Dress\", \"Coat\", \"Sandal\", \"Shirt\", \"Sneaker\", \"Bag\", \"Ankle boot\"]\n",
        "print(\"\\nClassification Report: \")\n",
        "print(classification_report(y_test, y_pred, target_names = class_names))"
      ],
      "metadata": {
        "colab": {
          "base_uri": "https://localhost:8080/"
        },
        "id": "qhFWJSRtxi7Z",
        "outputId": "955745ae-010a-486d-da50-50649e1f0799"
      },
      "execution_count": 16,
      "outputs": [
        {
          "output_type": "stream",
          "name": "stdout",
          "text": [
            "\n",
            "Classification Report: \n",
            "              precision    recall  f1-score   support\n",
            "\n",
            " T-shirt/top       0.88      0.77      0.82      1000\n",
            "     Trouser       0.98      0.98      0.98      1000\n",
            "    Pullover       0.81      0.79      0.80      1000\n",
            "       Dress       0.89      0.90      0.89      1000\n",
            "        Coat       0.83      0.79      0.81      1000\n",
            "      Sandal       0.96      0.97      0.97      1000\n",
            "       Shirt       0.64      0.76      0.70      1000\n",
            "     Sneaker       0.95      0.95      0.95      1000\n",
            "         Bag       0.98      0.98      0.98      1000\n",
            "  Ankle boot       0.96      0.96      0.96      1000\n",
            "\n",
            "    accuracy                           0.88     10000\n",
            "   macro avg       0.89      0.88      0.88     10000\n",
            "weighted avg       0.89      0.88      0.88     10000\n",
            "\n"
          ]
        }
      ]
    }
  ]
}